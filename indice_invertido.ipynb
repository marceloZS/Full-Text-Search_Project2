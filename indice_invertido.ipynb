{
 "cells": [
  {
   "cell_type": "code",
   "execution_count": 1,
   "metadata": {},
   "outputs": [],
   "source": [
    "import pandas as pd\n",
    "import numpy as np\n",
    "import os"
   ]
  },
  {
   "cell_type": "markdown",
   "metadata": {},
   "source": [
    "# **Dataset : Fashion Product Images**"
   ]
  },
  {
   "cell_type": "code",
   "execution_count": 2,
   "metadata": {},
   "outputs": [
    {
     "data": {
      "text/html": [
       "<div>\n",
       "<style scoped>\n",
       "    .dataframe tbody tr th:only-of-type {\n",
       "        vertical-align: middle;\n",
       "    }\n",
       "\n",
       "    .dataframe tbody tr th {\n",
       "        vertical-align: top;\n",
       "    }\n",
       "\n",
       "    .dataframe thead th {\n",
       "        text-align: right;\n",
       "    }\n",
       "</style>\n",
       "<table border=\"1\" class=\"dataframe\">\n",
       "  <thead>\n",
       "    <tr style=\"text-align: right;\">\n",
       "      <th></th>\n",
       "      <th>gender</th>\n",
       "      <th>masterCategory</th>\n",
       "      <th>subCategory</th>\n",
       "      <th>articleType</th>\n",
       "      <th>baseColour</th>\n",
       "      <th>season</th>\n",
       "      <th>year</th>\n",
       "      <th>usage</th>\n",
       "      <th>productDisplayName</th>\n",
       "    </tr>\n",
       "  </thead>\n",
       "  <tbody>\n",
       "    <tr>\n",
       "      <th>0</th>\n",
       "      <td>Men</td>\n",
       "      <td>Apparel</td>\n",
       "      <td>Topwear</td>\n",
       "      <td>Shirts</td>\n",
       "      <td>Navy Blue</td>\n",
       "      <td>Fall</td>\n",
       "      <td>2011.0</td>\n",
       "      <td>Casual</td>\n",
       "      <td>Turtle Check Men Navy Blue Shirt</td>\n",
       "    </tr>\n",
       "    <tr>\n",
       "      <th>1</th>\n",
       "      <td>Men</td>\n",
       "      <td>Apparel</td>\n",
       "      <td>Bottomwear</td>\n",
       "      <td>Jeans</td>\n",
       "      <td>Blue</td>\n",
       "      <td>Summer</td>\n",
       "      <td>2012.0</td>\n",
       "      <td>Casual</td>\n",
       "      <td>Peter England Men Party Blue Jeans</td>\n",
       "    </tr>\n",
       "    <tr>\n",
       "      <th>2</th>\n",
       "      <td>Women</td>\n",
       "      <td>Accessories</td>\n",
       "      <td>Watches</td>\n",
       "      <td>Watches</td>\n",
       "      <td>Silver</td>\n",
       "      <td>Winter</td>\n",
       "      <td>2016.0</td>\n",
       "      <td>Casual</td>\n",
       "      <td>Titan Women Silver Watch</td>\n",
       "    </tr>\n",
       "    <tr>\n",
       "      <th>3</th>\n",
       "      <td>Men</td>\n",
       "      <td>Apparel</td>\n",
       "      <td>Bottomwear</td>\n",
       "      <td>Track Pants</td>\n",
       "      <td>Black</td>\n",
       "      <td>Fall</td>\n",
       "      <td>2011.0</td>\n",
       "      <td>Casual</td>\n",
       "      <td>Manchester United Men Solid Black Track Pants</td>\n",
       "    </tr>\n",
       "    <tr>\n",
       "      <th>4</th>\n",
       "      <td>Men</td>\n",
       "      <td>Apparel</td>\n",
       "      <td>Topwear</td>\n",
       "      <td>Tshirts</td>\n",
       "      <td>Grey</td>\n",
       "      <td>Summer</td>\n",
       "      <td>2012.0</td>\n",
       "      <td>Casual</td>\n",
       "      <td>Puma Men Grey T-shirt</td>\n",
       "    </tr>\n",
       "  </tbody>\n",
       "</table>\n",
       "</div>"
      ],
      "text/plain": [
       "  gender masterCategory subCategory  articleType baseColour  season    year  \\\n",
       "0    Men        Apparel     Topwear       Shirts  Navy Blue    Fall  2011.0   \n",
       "1    Men        Apparel  Bottomwear        Jeans       Blue  Summer  2012.0   \n",
       "2  Women    Accessories     Watches      Watches     Silver  Winter  2016.0   \n",
       "3    Men        Apparel  Bottomwear  Track Pants      Black    Fall  2011.0   \n",
       "4    Men        Apparel     Topwear      Tshirts       Grey  Summer  2012.0   \n",
       "\n",
       "    usage                             productDisplayName  \n",
       "0  Casual               Turtle Check Men Navy Blue Shirt  \n",
       "1  Casual             Peter England Men Party Blue Jeans  \n",
       "2  Casual                       Titan Women Silver Watch  \n",
       "3  Casual  Manchester United Men Solid Black Track Pants  \n",
       "4  Casual                          Puma Men Grey T-shirt  "
      ]
     },
     "execution_count": 2,
     "metadata": {},
     "output_type": "execute_result"
    }
   ],
   "source": [
    "fashion_data = pd.read_csv('csv/fashion_product_images.csv', delimiter=',')\n",
    "\n",
    "#Elegimos solo las columnas textuales\n",
    "fashion_data = fashion_data[['gender', 'masterCategory', 'subCategory', 'articleType', 'baseColour', 'season', 'year', 'usage', 'productDisplayName']]\n",
    "\n",
    "fashion_data.head()"
   ]
  },
  {
   "cell_type": "markdown",
   "metadata": {},
   "source": [
    "**Ahora concatenamos y creamos los txt's**"
   ]
  },
  {
   "cell_type": "code",
   "execution_count": 3,
   "metadata": {},
   "outputs": [
    {
     "data": {
      "text/plain": [
       "\"# Ruta de la carpeta donde se guardarán los archivos de texto\\noutput_folder = 'fashion_txt'\\n\\n# Crea la carpeta si no existe\\nos.makedirs(output_folder, exist_ok=True)\\n\\n# Itera a través de cada fila y guarda en un archivo de texto\\nfor index, row in fashion_data.iterrows():\\n    # Convierte la fila en una cadena, separando los elementos por un espacio\\n    row_str = ' '.join(str(item) for item in row)\\n    \\n    # Crea un archivo de texto para cada fila en la carpeta específica\\n    file_path = os.path.join(output_folder, f'doc_{index + 1}.txt')\\n    with open(file_path, 'w') as file:\\n        file.write(row_str)\""
      ]
     },
     "execution_count": 3,
     "metadata": {},
     "output_type": "execute_result"
    }
   ],
   "source": [
    "\"\"\"# Ruta de la carpeta donde se guardarán los archivos de texto\n",
    "output_folder = 'fashion_txt'\n",
    "\n",
    "# Crea la carpeta si no existe\n",
    "os.makedirs(output_folder, exist_ok=True)\n",
    "\n",
    "# Itera a través de cada fila y guarda en un archivo de texto\n",
    "for index, row in fashion_data.iterrows():\n",
    "    # Convierte la fila en una cadena, separando los elementos por un espacio\n",
    "    row_str = ' '.join(str(item) for item in row)\n",
    "    \n",
    "    # Crea un archivo de texto para cada fila en la carpeta específica\n",
    "    file_path = os.path.join(output_folder, f'doc_{index + 1}.txt')\n",
    "    with open(file_path, 'w') as file:\n",
    "        file.write(row_str)\"\"\""
   ]
  },
  {
   "cell_type": "markdown",
   "metadata": {},
   "source": [
    "## **Pre-procesamiento**"
   ]
  },
  {
   "cell_type": "code",
   "execution_count": 4,
   "metadata": {},
   "outputs": [
    {
     "name": "stderr",
     "output_type": "stream",
     "text": [
      "[nltk_data] Downloading package stopwords to\n",
      "[nltk_data]     C:\\Users\\PC\\AppData\\Roaming\\nltk_data...\n",
      "[nltk_data]   Package stopwords is already up-to-date!\n"
     ]
    }
   ],
   "source": [
    "import nltk \n",
    "from nltk.corpus import stopwords #Stopwords\n",
    "from nltk.stem import SnowballStemmer #Stemming\n",
    "\n",
    "#Descargamos las stopwords\n",
    "nltk.download('stopwords')\n",
    "\n",
    "#Como todo el contenido esta en ingles, las stopwords tambien lo van a estar\n",
    "stopwords = stopwords.words('english')"
   ]
  },
  {
   "cell_type": "markdown",
   "metadata": {},
   "source": [
    "**Tokenizamos nuestro txt**"
   ]
  },
  {
   "cell_type": "code",
   "execution_count": 5,
   "metadata": {},
   "outputs": [
    {
     "name": "stdout",
     "output_type": "stream",
     "text": [
      "['men', 'apparel', 'topwear', 'shirts', 'navy', 'blue', 'fall', '2011.0', 'casual', 'turtle', 'check', 'men', 'navy', 'blue', 'shirt']\n"
     ]
    }
   ],
   "source": [
    "file_content = open(\"fashion_txt/doc_1.txt\", encoding=\"utf-8\").read().lower()\n",
    "tokens = nltk.word_tokenize(file_content)\n",
    "print(tokens)"
   ]
  },
  {
   "cell_type": "markdown",
   "metadata": {},
   "source": [
    "**Eliminamos de nuestro txt los stopwords y los signos innecesarios**"
   ]
  },
  {
   "cell_type": "code",
   "execution_count": 6,
   "metadata": {},
   "outputs": [
    {
     "name": "stdout",
     "output_type": "stream",
     "text": [
      "['men', 'apparel', 'topwear', 'shirts', 'navy', 'blue', 'fall', 'casual', 'turtle', 'check', 'men', 'navy', 'blue', 'shirt']\n"
     ]
    }
   ],
   "source": [
    "#Filtramos en caso no pertenezca a los stopwords o sea un valor alfanumerico\n",
    "texto_filtrado = [word for word in tokens if not word in stopwords and word.isalnum()]\n",
    "print(texto_filtrado)"
   ]
  },
  {
   "cell_type": "markdown",
   "metadata": {},
   "source": [
    "**Aplicamos stemming en nuestros txt's**"
   ]
  },
  {
   "cell_type": "code",
   "execution_count": 7,
   "metadata": {},
   "outputs": [
    {
     "name": "stdout",
     "output_type": "stream",
     "text": [
      "['men', 'apparel', 'topwear', 'shirt', 'navi', 'blue', 'fall', 'casual', 'turtl', 'check', 'men', 'navi', 'blue', 'shirt']\n"
     ]
    }
   ],
   "source": [
    "stemmer = SnowballStemmer('english')\n",
    "\n",
    "texto_filtrado = [stemmer.stem(w) for w in texto_filtrado]\n",
    "\n",
    "print(texto_filtrado)"
   ]
  },
  {
   "cell_type": "markdown",
   "metadata": {},
   "source": []
  },
  {
   "cell_type": "markdown",
   "metadata": {},
   "source": []
  }
 ],
 "metadata": {
  "kernelspec": {
   "display_name": "Python 3",
   "language": "python",
   "name": "python3"
  },
  "language_info": {
   "codemirror_mode": {
    "name": "ipython",
    "version": 3
   },
   "file_extension": ".py",
   "mimetype": "text/x-python",
   "name": "python",
   "nbconvert_exporter": "python",
   "pygments_lexer": "ipython3",
   "version": "3.11.3"
  }
 },
 "nbformat": 4,
 "nbformat_minor": 2
}
